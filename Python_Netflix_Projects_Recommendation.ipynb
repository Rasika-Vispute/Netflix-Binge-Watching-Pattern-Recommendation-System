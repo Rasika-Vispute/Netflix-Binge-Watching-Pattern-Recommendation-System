{
 "cells": [
  {
   "cell_type": "markdown",
   "id": "a851dc5b",
   "metadata": {},
   "source": [
    "# Step-by-Step Plan\n",
    "\n",
    "**PHASE 1: Content-Based Filtering**\n",
    "- **Step 1:** Load and Prepare Data\n",
    "- **Step 2:** Feature Selection for Recommendation\n",
    "- **Step 3:** Text Vectorization (TF-IDF)\n",
    "- **Step 4:** Compute Similarity Scores\n",
    "- **Step 5:** Build a Recommendation Function\n",
    "- **Step 6:** Test with Sample Inputs\n",
    "\n",
    "**PHASE 2: Simulate Collaborative Filtering (To build Hybrid)**\n",
    "- **Step 7:** Simulate Ratings Data \n",
    "- **Step 8:** Collaborative Filtering using Surprise\n",
    "- **Step 9:** Final Hybrid Recommender"
   ]
  },
  {
   "cell_type": "markdown",
   "id": "1593d6bf",
   "metadata": {},
   "source": [
    "# PHASE1: Content-Based Filtering"
   ]
  },
  {
   "cell_type": "code",
   "execution_count": null,
   "id": "d720ba72",
   "metadata": {},
   "outputs": [],
   "source": [
    "# conda update --all\n",
    "# conda install -c conda-forge scikit-surprise"
   ]
  },
  {
   "cell_type": "code",
   "execution_count": 4,
   "id": "7341c52f",
   "metadata": {},
   "outputs": [],
   "source": [
    "# pip install scikit-surprise"
   ]
  },
  {
   "cell_type": "code",
   "execution_count": null,
   "id": "cd847734",
   "metadata": {},
   "outputs": [],
   "source": [
    "# Step 1: Load and Prepare Data"
   ]
  },
  {
   "cell_type": "code",
   "execution_count": 1,
   "id": "0545e540",
   "metadata": {},
   "outputs": [],
   "source": [
    "import pandas as pd\n",
    "import random\n",
    "\n",
    "from warnings import filterwarnings\n",
    "filterwarnings('ignore')\n",
    "from sklearn.feature_extraction.text import TfidfVectorizer\n",
    "from sklearn.metrics.pairwise import linear_kernel\n",
    "from surprise import Dataset, Reader, SVD\n",
    "from surprise.model_selection import train_test_split"
   ]
  },
  {
   "cell_type": "code",
   "execution_count": 2,
   "id": "48d3a6d6",
   "metadata": {},
   "outputs": [],
   "source": [
    "# Load the cleaned dataset (replace with your actual path)\n",
    "df = pd.read_csv(\"clean_netflix_for_powerbi.csv\")"
   ]
  },
  {
   "cell_type": "code",
   "execution_count": 3,
   "id": "2d2c78d3",
   "metadata": {},
   "outputs": [
    {
     "data": {
      "text/html": [
       "<div>\n",
       "<style scoped>\n",
       "    .dataframe tbody tr th:only-of-type {\n",
       "        vertical-align: middle;\n",
       "    }\n",
       "\n",
       "    .dataframe tbody tr th {\n",
       "        vertical-align: top;\n",
       "    }\n",
       "\n",
       "    .dataframe thead th {\n",
       "        text-align: right;\n",
       "    }\n",
       "</style>\n",
       "<table border=\"1\" class=\"dataframe\">\n",
       "  <thead>\n",
       "    <tr style=\"text-align: right;\">\n",
       "      <th></th>\n",
       "      <th>title</th>\n",
       "      <th>description</th>\n",
       "      <th>listed_in</th>\n",
       "      <th>type</th>\n",
       "      <th>duration</th>\n",
       "      <th>rating</th>\n",
       "    </tr>\n",
       "  </thead>\n",
       "  <tbody>\n",
       "    <tr>\n",
       "      <th>0</th>\n",
       "      <td>Dick Johnson Is Dead</td>\n",
       "      <td>As her father nears the end of his life, filmm...</td>\n",
       "      <td>Documentaries</td>\n",
       "      <td>Movie</td>\n",
       "      <td>90 min</td>\n",
       "      <td>PG-13</td>\n",
       "    </tr>\n",
       "    <tr>\n",
       "      <th>1</th>\n",
       "      <td>Blood &amp; Water</td>\n",
       "      <td>After crossing paths at a party, a Cape Town t...</td>\n",
       "      <td>International TV Shows, TV Dramas, TV Mysteries</td>\n",
       "      <td>TV Show</td>\n",
       "      <td>2 Seasons</td>\n",
       "      <td>TV-MA</td>\n",
       "    </tr>\n",
       "    <tr>\n",
       "      <th>2</th>\n",
       "      <td>Ganglands</td>\n",
       "      <td>To protect his family from a powerful drug lor...</td>\n",
       "      <td>Crime TV Shows, International TV Shows, TV Act...</td>\n",
       "      <td>TV Show</td>\n",
       "      <td>1 Season</td>\n",
       "      <td>TV-MA</td>\n",
       "    </tr>\n",
       "    <tr>\n",
       "      <th>3</th>\n",
       "      <td>Jailbirds New Orleans</td>\n",
       "      <td>Feuds, flirtations and toilet talk go down amo...</td>\n",
       "      <td>Docuseries, Reality TV</td>\n",
       "      <td>TV Show</td>\n",
       "      <td>1 Season</td>\n",
       "      <td>TV-MA</td>\n",
       "    </tr>\n",
       "    <tr>\n",
       "      <th>4</th>\n",
       "      <td>Kota Factory</td>\n",
       "      <td>In a city of coaching centers known to train I...</td>\n",
       "      <td>International TV Shows, Romantic TV Shows, TV ...</td>\n",
       "      <td>TV Show</td>\n",
       "      <td>2 Seasons</td>\n",
       "      <td>TV-MA</td>\n",
       "    </tr>\n",
       "  </tbody>\n",
       "</table>\n",
       "</div>"
      ],
      "text/plain": [
       "                   title                                        description  \\\n",
       "0   Dick Johnson Is Dead  As her father nears the end of his life, filmm...   \n",
       "1          Blood & Water  After crossing paths at a party, a Cape Town t...   \n",
       "2              Ganglands  To protect his family from a powerful drug lor...   \n",
       "3  Jailbirds New Orleans  Feuds, flirtations and toilet talk go down amo...   \n",
       "4           Kota Factory  In a city of coaching centers known to train I...   \n",
       "\n",
       "                                           listed_in     type   duration  \\\n",
       "0                                      Documentaries    Movie     90 min   \n",
       "1    International TV Shows, TV Dramas, TV Mysteries  TV Show  2 Seasons   \n",
       "2  Crime TV Shows, International TV Shows, TV Act...  TV Show   1 Season   \n",
       "3                             Docuseries, Reality TV  TV Show   1 Season   \n",
       "4  International TV Shows, Romantic TV Shows, TV ...  TV Show  2 Seasons   \n",
       "\n",
       "  rating  \n",
       "0  PG-13  \n",
       "1  TV-MA  \n",
       "2  TV-MA  \n",
       "3  TV-MA  \n",
       "4  TV-MA  "
      ]
     },
     "execution_count": 3,
     "metadata": {},
     "output_type": "execute_result"
    }
   ],
   "source": [
    "# Preview the data\n",
    "df = df[['title', 'description', 'listed_in', 'type', 'duration', 'rating']]\n",
    "df.dropna(subset=['description', 'listed_in'], inplace=True)\n",
    "df.reset_index(drop=True, inplace=True)\n",
    "df.head()"
   ]
  },
  {
   "cell_type": "code",
   "execution_count": 4,
   "id": "1d6ebf27",
   "metadata": {},
   "outputs": [],
   "source": [
    "# Step 2: Combine Text Features"
   ]
  },
  {
   "cell_type": "code",
   "execution_count": 5,
   "id": "379f3640",
   "metadata": {},
   "outputs": [],
   "source": [
    "# Create a new column for text-based features\n",
    "df['combined_features'] = df['listed_in'].fillna('') + ' ' + df['description'].fillna('')"
   ]
  },
  {
   "cell_type": "code",
   "execution_count": 6,
   "id": "eefb1364",
   "metadata": {},
   "outputs": [],
   "source": [
    "# Step 3: Convert Text to Vectors (TF-IDF)(TF-IDF Vectorization)"
   ]
  },
  {
   "cell_type": "code",
   "execution_count": 7,
   "id": "3e01e2ca",
   "metadata": {},
   "outputs": [],
   "source": [
    "# from sklearn.feature_extraction.text import TfidfVectorizer\n",
    "\n",
    "# Initialize TF-IDF Vectorizer\n",
    "tfidf = TfidfVectorizer(stop_words='english')\n",
    "\n",
    "# Fit and transform the combined features\n",
    "tfidf_matrix = tfidf.fit_transform(df['combined_features'])"
   ]
  },
  {
   "cell_type": "code",
   "execution_count": 8,
   "id": "774cd0df",
   "metadata": {},
   "outputs": [],
   "source": [
    "# Step 4: Cosine Similarity Calculation"
   ]
  },
  {
   "cell_type": "code",
   "execution_count": 9,
   "id": "47429913",
   "metadata": {},
   "outputs": [],
   "source": [
    "# from sklearn.metrics.pairwise import linear_kernel\n",
    "\n",
    "# Compute cosine similarity matrix\n",
    "cosine_sim = linear_kernel(tfidf_matrix, tfidf_matrix)"
   ]
  },
  {
   "cell_type": "code",
   "execution_count": 10,
   "id": "e3b47f66",
   "metadata": {},
   "outputs": [],
   "source": [
    "# Step 5: Build Reverse Index"
   ]
  },
  {
   "cell_type": "code",
   "execution_count": 11,
   "id": "9edc88be",
   "metadata": {},
   "outputs": [],
   "source": [
    "# Mapping title to index for lookup\n",
    "indices = pd.Series(df.index, index=df['title']).drop_duplicates()"
   ]
  },
  {
   "cell_type": "code",
   "execution_count": 12,
   "id": "ef9d7dd8",
   "metadata": {},
   "outputs": [],
   "source": [
    "# Step 5: Create the Recommendation Function"
   ]
  },
  {
   "cell_type": "code",
   "execution_count": 13,
   "id": "d5a2ebd8",
   "metadata": {},
   "outputs": [],
   "source": [
    "def recommend(title, num_recommendations=5):\n",
    "    if title not in indices:\n",
    "        return \"Title not found in dataset.\"\n",
    "\n",
    "    idx = indices[title]\n",
    "    sim_scores = list(enumerate(cosine_sim[idx]))\n",
    "    sim_scores = sorted(sim_scores, key=lambda x: x[1], reverse=True)\n",
    "    sim_scores = sim_scores[1:num_recommendations + 1]\n",
    "    show_indices = [i[0] for i in sim_scores]\n",
    "\n",
    "    return df[['title', 'listed_in', 'description']].iloc[show_indices]"
   ]
  },
  {
   "cell_type": "code",
   "execution_count": 14,
   "id": "e7ba7b58",
   "metadata": {},
   "outputs": [],
   "source": [
    "# Step 6: Test Your Recommender"
   ]
  },
  {
   "cell_type": "code",
   "execution_count": 15,
   "id": "0547e568",
   "metadata": {},
   "outputs": [
    {
     "data": {
      "text/html": [
       "<div>\n",
       "<style scoped>\n",
       "    .dataframe tbody tr th:only-of-type {\n",
       "        vertical-align: middle;\n",
       "    }\n",
       "\n",
       "    .dataframe tbody tr th {\n",
       "        vertical-align: top;\n",
       "    }\n",
       "\n",
       "    .dataframe thead th {\n",
       "        text-align: right;\n",
       "    }\n",
       "</style>\n",
       "<table border=\"1\" class=\"dataframe\">\n",
       "  <thead>\n",
       "    <tr style=\"text-align: right;\">\n",
       "      <th></th>\n",
       "      <th>title</th>\n",
       "      <th>listed_in</th>\n",
       "      <th>description</th>\n",
       "    </tr>\n",
       "  </thead>\n",
       "  <tbody>\n",
       "    <tr>\n",
       "      <th>108</th>\n",
       "      <td>Dive Club</td>\n",
       "      <td>Kids' TV, TV Dramas, Teen TV Shows</td>\n",
       "      <td>On the shores of Cape Mercy, a skillful group ...</td>\n",
       "    </tr>\n",
       "    <tr>\n",
       "      <th>4271</th>\n",
       "      <td>Lion Pride</td>\n",
       "      <td>International TV Shows, Romantic TV Shows, TV ...</td>\n",
       "      <td>After crossing paths at a crime scene, a renow...</td>\n",
       "    </tr>\n",
       "    <tr>\n",
       "      <th>4022</th>\n",
       "      <td>More to Say</td>\n",
       "      <td>International TV Shows, TV Dramas, TV Mysteries</td>\n",
       "      <td>After her son dies in an accident, a legal con...</td>\n",
       "    </tr>\n",
       "    <tr>\n",
       "      <th>222</th>\n",
       "      <td>Clickbait</td>\n",
       "      <td>Crime TV Shows, TV Dramas, TV Mysteries</td>\n",
       "      <td>When family man Nick Brewer is abducted in a c...</td>\n",
       "    </tr>\n",
       "    <tr>\n",
       "      <th>4487</th>\n",
       "      <td>Accidentally in Love</td>\n",
       "      <td>International TV Shows, Romantic TV Shows, TV ...</td>\n",
       "      <td>Rejecting the demands of her wealthy family, a...</td>\n",
       "    </tr>\n",
       "  </tbody>\n",
       "</table>\n",
       "</div>"
      ],
      "text/plain": [
       "                     title                                          listed_in  \\\n",
       "108              Dive Club                 Kids' TV, TV Dramas, Teen TV Shows   \n",
       "4271            Lion Pride  International TV Shows, Romantic TV Shows, TV ...   \n",
       "4022           More to Say    International TV Shows, TV Dramas, TV Mysteries   \n",
       "222              Clickbait            Crime TV Shows, TV Dramas, TV Mysteries   \n",
       "4487  Accidentally in Love  International TV Shows, Romantic TV Shows, TV ...   \n",
       "\n",
       "                                            description  \n",
       "108   On the shores of Cape Mercy, a skillful group ...  \n",
       "4271  After crossing paths at a crime scene, a renow...  \n",
       "4022  After her son dies in an accident, a legal con...  \n",
       "222   When family man Nick Brewer is abducted in a c...  \n",
       "4487  Rejecting the demands of her wealthy family, a...  "
      ]
     },
     "execution_count": 15,
     "metadata": {},
     "output_type": "execute_result"
    }
   ],
   "source": [
    "recommend(\"Blood & Water\", num_recommendations=5)"
   ]
  },
  {
   "cell_type": "markdown",
   "id": "89fd7a7a",
   "metadata": {},
   "source": [
    "# PHASE 2: Simulate Collaborative Filtering (To build Hybrid)"
   ]
  },
  {
   "cell_type": "code",
   "execution_count": 16,
   "id": "a7c4842b",
   "metadata": {},
   "outputs": [],
   "source": [
    "# Step 7: Simulate Ratings Data \n",
    "\n",
    "# Assume df is your existing Netflix metadata DataFrame\n",
    "titles = df['title'].dropna().unique().tolist()\n",
    "users = [f'user_{i}' for i in range(1, 11)]  # 10 fake users\n",
    "\n",
    "# Generate 20 ratings per user\n",
    "simulated_ratings = []\n",
    "for user in users:\n",
    "    rated_titles = random.sample(titles, 20)\n",
    "    for title in rated_titles:\n",
    "        rating = random.randint(1, 5)\n",
    "        simulated_ratings.append([user, title, rating])\n",
    "\n",
    "ratings_df = pd.DataFrame(simulated_ratings, columns=['user_id', 'title', 'rating'])"
   ]
  },
  {
   "cell_type": "code",
   "execution_count": 17,
   "id": "25c16601",
   "metadata": {},
   "outputs": [
    {
     "data": {
      "text/html": [
       "<div>\n",
       "<style scoped>\n",
       "    .dataframe tbody tr th:only-of-type {\n",
       "        vertical-align: middle;\n",
       "    }\n",
       "\n",
       "    .dataframe tbody tr th {\n",
       "        vertical-align: top;\n",
       "    }\n",
       "\n",
       "    .dataframe thead th {\n",
       "        text-align: right;\n",
       "    }\n",
       "</style>\n",
       "<table border=\"1\" class=\"dataframe\">\n",
       "  <thead>\n",
       "    <tr style=\"text-align: right;\">\n",
       "      <th></th>\n",
       "      <th>user_id</th>\n",
       "      <th>title</th>\n",
       "      <th>rating</th>\n",
       "    </tr>\n",
       "  </thead>\n",
       "  <tbody>\n",
       "    <tr>\n",
       "      <th>0</th>\n",
       "      <td>user_1</td>\n",
       "      <td>Life 2.0</td>\n",
       "      <td>2</td>\n",
       "    </tr>\n",
       "    <tr>\n",
       "      <th>1</th>\n",
       "      <td>user_1</td>\n",
       "      <td>P. King Duckling</td>\n",
       "      <td>2</td>\n",
       "    </tr>\n",
       "    <tr>\n",
       "      <th>2</th>\n",
       "      <td>user_1</td>\n",
       "      <td>Sherlock</td>\n",
       "      <td>2</td>\n",
       "    </tr>\n",
       "    <tr>\n",
       "      <th>3</th>\n",
       "      <td>user_1</td>\n",
       "      <td>Mighty Raju</td>\n",
       "      <td>2</td>\n",
       "    </tr>\n",
       "    <tr>\n",
       "      <th>4</th>\n",
       "      <td>user_1</td>\n",
       "      <td>Paathi</td>\n",
       "      <td>2</td>\n",
       "    </tr>\n",
       "  </tbody>\n",
       "</table>\n",
       "</div>"
      ],
      "text/plain": [
       "  user_id             title  rating\n",
       "0  user_1          Life 2.0       2\n",
       "1  user_1  P. King Duckling       2\n",
       "2  user_1          Sherlock       2\n",
       "3  user_1       Mighty Raju       2\n",
       "4  user_1            Paathi       2"
      ]
     },
     "execution_count": 17,
     "metadata": {},
     "output_type": "execute_result"
    }
   ],
   "source": [
    "ratings_df.head()"
   ]
  },
  {
   "cell_type": "code",
   "execution_count": 18,
   "id": "d86b568c",
   "metadata": {},
   "outputs": [
    {
     "data": {
      "text/plain": [
       "<surprise.prediction_algorithms.matrix_factorization.SVD at 0x24bdcf84880>"
      ]
     },
     "execution_count": 18,
     "metadata": {},
     "output_type": "execute_result"
    }
   ],
   "source": [
    "# Step 8: Collaborative Filtering using Surprise\n",
    "\n",
    "# Prepare data for Surprise\n",
    "reader = Reader(rating_scale=(1, 5))\n",
    "data = Dataset.load_from_df(ratings_df[['user_id', 'title', 'rating']], reader)\n",
    "trainset, testset = train_test_split(data, test_size=0.2)\n",
    "\n",
    "# Train SVD model\n",
    "model = SVD()\n",
    "model.fit(trainset)"
   ]
  },
  {
   "cell_type": "code",
   "execution_count": 19,
   "id": "0b448b36",
   "metadata": {},
   "outputs": [],
   "source": [
    "# Step 9: Final Hybrid Recommender\n",
    "\n",
    "def recommend_hybrid(title, user_id, n=5, alpha=0.5):\n",
    "    if title not in indices or user_id not in ratings_df['user_id'].unique():\n",
    "        return \"Invalid title or user ID.\"\n",
    "\n",
    "    idx = indices[title]\n",
    "    content_scores = list(enumerate(cosine_sim[idx]))\n",
    "    content_scores = sorted(content_scores, key=lambda x: x[1], reverse=True)\n",
    "    content_scores = [x for x in content_scores if df.iloc[x[0]]['title'] != title]\n",
    "\n",
    "    hybrid_scores = []\n",
    "    for i, sim_score in content_scores[:50]:\n",
    "        candidate_title = df.iloc[i]['title']\n",
    "        try:\n",
    "            collab_pred = model.predict(user_id, candidate_title).est\n",
    "        except:\n",
    "            collab_pred = 0\n",
    "        final_score = alpha * sim_score + (1 - alpha) * (collab_pred / 5)  # Normalize\n",
    "        hybrid_scores.append((candidate_title, final_score))\n",
    "\n",
    "    top_hybrid = sorted(hybrid_scores, key=lambda x: x[1], reverse=True)[:n]\n",
    "    top_titles = [title for title, _ in top_hybrid]\n",
    "    return df[df['title'].isin(top_titles)][['title', 'type', 'rating', 'listed_in', 'description']]"
   ]
  },
  {
   "cell_type": "code",
   "execution_count": 20,
   "id": "6f759543",
   "metadata": {},
   "outputs": [
    {
     "data": {
      "text/html": [
       "<div>\n",
       "<style scoped>\n",
       "    .dataframe tbody tr th:only-of-type {\n",
       "        vertical-align: middle;\n",
       "    }\n",
       "\n",
       "    .dataframe tbody tr th {\n",
       "        vertical-align: top;\n",
       "    }\n",
       "\n",
       "    .dataframe thead th {\n",
       "        text-align: right;\n",
       "    }\n",
       "</style>\n",
       "<table border=\"1\" class=\"dataframe\">\n",
       "  <thead>\n",
       "    <tr style=\"text-align: right;\">\n",
       "      <th></th>\n",
       "      <th>title</th>\n",
       "      <th>type</th>\n",
       "      <th>rating</th>\n",
       "      <th>listed_in</th>\n",
       "      <th>description</th>\n",
       "    </tr>\n",
       "  </thead>\n",
       "  <tbody>\n",
       "    <tr>\n",
       "      <th>2</th>\n",
       "      <td>Ganglands</td>\n",
       "      <td>TV Show</td>\n",
       "      <td>TV-MA</td>\n",
       "      <td>Crime TV Shows, International TV Shows, TV Act...</td>\n",
       "      <td>To protect his family from a powerful drug lor...</td>\n",
       "    </tr>\n",
       "    <tr>\n",
       "      <th>2921</th>\n",
       "      <td>Narcos: Mexico</td>\n",
       "      <td>TV Show</td>\n",
       "      <td>TV-MA</td>\n",
       "      <td>Crime TV Shows, TV Action &amp; Adventure, TV Dramas</td>\n",
       "      <td>Witness the birth of the Mexican drug war in t...</td>\n",
       "    </tr>\n",
       "    <tr>\n",
       "      <th>4750</th>\n",
       "      <td>El Chapo</td>\n",
       "      <td>TV Show</td>\n",
       "      <td>TV-MA</td>\n",
       "      <td>Crime TV Shows, Spanish-Language TV Shows, TV ...</td>\n",
       "      <td>This drama series chronicles the true story of...</td>\n",
       "    </tr>\n",
       "    <tr>\n",
       "      <th>6673</th>\n",
       "      <td>El Cartel 2</td>\n",
       "      <td>TV Show</td>\n",
       "      <td>TV-MA</td>\n",
       "      <td>Crime TV Shows, International TV Shows, Spanis...</td>\n",
       "      <td>Drug trafficker Pepe Cadena navigates the trea...</td>\n",
       "    </tr>\n",
       "    <tr>\n",
       "      <th>7463</th>\n",
       "      <td>Miss Dynamite</td>\n",
       "      <td>TV Show</td>\n",
       "      <td>TV-14</td>\n",
       "      <td>Crime TV Shows, International TV Shows, Spanis...</td>\n",
       "      <td>Wealthy, beautiful Valentina falls in love, on...</td>\n",
       "    </tr>\n",
       "  </tbody>\n",
       "</table>\n",
       "</div>"
      ],
      "text/plain": [
       "               title     type rating  \\\n",
       "2          Ganglands  TV Show  TV-MA   \n",
       "2921  Narcos: Mexico  TV Show  TV-MA   \n",
       "4750        El Chapo  TV Show  TV-MA   \n",
       "6673     El Cartel 2  TV Show  TV-MA   \n",
       "7463   Miss Dynamite  TV Show  TV-14   \n",
       "\n",
       "                                              listed_in  \\\n",
       "2     Crime TV Shows, International TV Shows, TV Act...   \n",
       "2921   Crime TV Shows, TV Action & Adventure, TV Dramas   \n",
       "4750  Crime TV Shows, Spanish-Language TV Shows, TV ...   \n",
       "6673  Crime TV Shows, International TV Shows, Spanis...   \n",
       "7463  Crime TV Shows, International TV Shows, Spanis...   \n",
       "\n",
       "                                            description  \n",
       "2     To protect his family from a powerful drug lor...  \n",
       "2921  Witness the birth of the Mexican drug war in t...  \n",
       "4750  This drama series chronicles the true story of...  \n",
       "6673  Drug trafficker Pepe Cadena navigates the trea...  \n",
       "7463  Wealthy, beautiful Valentina falls in love, on...  "
      ]
     },
     "execution_count": 20,
     "metadata": {},
     "output_type": "execute_result"
    }
   ],
   "source": [
    "recommend_hybrid(\"Narcos\", \"user_1\", n=5)"
   ]
  }
 ],
 "metadata": {
  "kernelspec": {
   "display_name": "Python 3 (ipykernel)",
   "language": "python",
   "name": "python3"
  },
  "language_info": {
   "codemirror_mode": {
    "name": "ipython",
    "version": 3
   },
   "file_extension": ".py",
   "mimetype": "text/x-python",
   "name": "python",
   "nbconvert_exporter": "python",
   "pygments_lexer": "ipython3",
   "version": "3.9.13"
  }
 },
 "nbformat": 4,
 "nbformat_minor": 5
}
